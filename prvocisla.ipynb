{
 "cells": [
  {
   "cell_type": "markdown",
   "id": "822a0c5e",
   "metadata": {},
   "source": [
    "# Eratosthenovo síto"
   ]
  },
  {
   "cell_type": "code",
   "execution_count": 18,
   "id": "5462cf90",
   "metadata": {},
   "outputs": [],
   "source": [
    "# Python: Eratosthenovo síto pro nalezení všech prvočísel menších než nebo rovných nmax\n",
    "from numba import njit\n",
    "import numpy as np\n",
    "import matplotlib.pyplot as plt\n",
    "\n",
    "# vrací integer numpy pole prvočísel od 2 do nmax včetně\n",
    "@njit\n",
    "def sieve_of_eratosthenes(nmax):\n",
    "    a = np.full(nmax + 1, True)       # alokace dynamického pole bool prvků (zde: síto)\n",
    "    a[0:2] = False                     # 0 a 1 nejsou prvočísla\n",
    "    n = 2                              # první prvočíslo\n",
    "    dvojcata = 0\n",
    "    while n <= np.sqrt(nmax):          # průchod od 2 do sqrt(nmax)\n",
    "        nn = n * n                     # nejbližší nevyškrtnutý násobek\n",
    "        while nn <= nmax:              # vyškrtávání násobků\n",
    "            a[nn] = False              # - všech\n",
    "            nn += n                    # posun na další násobek\n",
    "        # posun na další nevyškrtnutý prvek\n",
    "        n += 1\n",
    "        while n <= nmax and not a[n]:\n",
    "            n += 1\n",
    "\n",
    "    cnt = 0\n",
    "    for i in range(nmax + 1):          # zjištění počtu nevyškrtnutých prvků\n",
    "        if a[i]:\n",
    "            cnt += 1\n",
    "    result = np.zeros(cnt, dtype=np.int32)  # alokace výstupního pole prvočísel\n",
    "    nprime = 0\n",
    "    for i in range(nmax + 1):          # průchod sítem\n",
    "        if a[i]:\n",
    "            result[nprime] = i         # přenos prvočísel z indexů v sítu do výstupního pole\n",
    "            nprime += 1\n",
    "    for i in range(np.size(result)):\n",
    "        if (result[i+1] - result[i]) == 2:\n",
    "            dvojcata += 1\n",
    "    return result, dvojcata\n",
    "\n",
    "nmax = 1_000_000"
   ]
  },
  {
   "cell_type": "code",
   "execution_count": 19,
   "id": "167e8599",
   "metadata": {},
   "outputs": [],
   "source": [
    "prvocisla, dvojce = sieve_of_eratosthenes(nmax)"
   ]
  },
  {
   "cell_type": "code",
   "execution_count": 20,
   "id": "8bde8cb4",
   "metadata": {},
   "outputs": [
    {
     "ename": "KeyboardInterrupt",
     "evalue": "",
     "output_type": "error",
     "traceback": [
      "\u001b[1;31m---------------------------------------------------------------------------\u001b[0m",
      "\u001b[1;31mKeyboardInterrupt\u001b[0m                         Traceback (most recent call last)",
      "Cell \u001b[1;32mIn[20], line 5\u001b[0m\n\u001b[0;32m      3\u001b[0m dvojice \u001b[38;5;241m=\u001b[39m np\u001b[38;5;241m.\u001b[39mzeros(np\u001b[38;5;241m.\u001b[39msize(x))\n\u001b[0;32m      4\u001b[0m \u001b[38;5;28;01mfor\u001b[39;00m i \u001b[38;5;129;01min\u001b[39;00m \u001b[38;5;28mrange\u001b[39m(np\u001b[38;5;241m.\u001b[39msize(x)):\n\u001b[1;32m----> 5\u001b[0m     res, twin \u001b[38;5;241m=\u001b[39m sieve_of_eratosthenes(x[i])   \u001b[38;5;66;03m# res je pole prvočísel, twin je počet dvojčat\u001b[39;00m\n\u001b[0;32m      6\u001b[0m     prvocisla[i] \u001b[38;5;241m=\u001b[39m res\u001b[38;5;241m.\u001b[39msize                    \u001b[38;5;66;03m# uložíme počet prvočísel ≤ x[i]\u001b[39;00m\n\u001b[0;32m      7\u001b[0m     dvojice[i] \u001b[38;5;241m=\u001b[39m twin\n",
      "\u001b[1;31mKeyboardInterrupt\u001b[0m: "
     ]
    }
   ],
   "source": [
    "x = np.arange(1,nmax,1)\n",
    "prvocisla = np.zeros(np.size(x))\n",
    "dvojice = np.zeros(np.size(x))\n",
    "for i in range(np.size(x)):\n",
    "    res, twin = sieve_of_eratosthenes(x[i])   # res je pole prvočísel, twin je počet dvojčat\n",
    "    prvocisla[i] = res.size                    # uložíme počet prvočísel ≤ x[i]\n",
    "    dvojice[i] = twin                          # uložíme počet dvojčat ≤ x[i]"
   ]
  },
  {
   "cell_type": "code",
   "execution_count": null,
   "id": "25347595",
   "metadata": {},
   "outputs": [
    {
     "data": {
      "text/plain": [
       "[<matplotlib.lines.Line2D at 0x14c3dfc55e0>]"
      ]
     },
     "execution_count": 17,
     "metadata": {},
     "output_type": "execute_result"
    },
    {
     "data": {
      "image/png": "[encoded data removed]",
      "text/plain": [
       "<Figure size 640x480 with 1 Axes>"
      ]
     },
     "metadata": {},
     "output_type": "display_data"
    }
   ],
   "source": [
    "plt.plot(x,dvojice)\n",
    "plt.plot(x,prvocisla)"
   ]
  }
 ],
 "metadata": {
  "kernelspec": {
   "display_name": "base",
   "language": "python",
   "name": "python3"
  },
  "language_info": {
   "codemirror_mode": {
    "name": "ipython",
    "version": 3
   },
   "file_extension": ".py",
   "mimetype": "text/x-python",
   "name": "python",
   "nbconvert_exporter": "python",
   "pygments_lexer": "ipython3",
   "version": "3.12.7"
  }
 },
 "nbformat": 4,
 "nbformat_minor": 5
}
