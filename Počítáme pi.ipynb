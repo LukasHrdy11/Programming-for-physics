{
 "cells": [
  {
   "cell_type": "markdown",
   "id": "6bf9d65f",
   "metadata": {},
   "source": [
    "# Počítáme Pi"
   ]
  },
  {
   "cell_type": "code",
   "execution_count": 40,
   "id": "e36405d4",
   "metadata": {},
   "outputs": [
    {
     "name": "stdout",
     "output_type": "stream",
     "text": [
      "          pi podle math =   3.141592653589793\n",
      "       pi podle Machina =   3.141592653589794\n"
     ]
    }
   ],
   "source": [
    "# Python: předdefinované pí a Machinovo pí\n",
    "from math import *                                      # import všech jmen z modulu math\n",
    "format='%25s%20.15f'                                    # formátová specifikace 25 znaků pro string (celý řetězec), 20 znaků pro float s 15 desetinnými místy\n",
    "print(format%('pi podle math =',pi))                    # printf-style string formatting\n",
    "# print('{:>25}{:20.15f}'.format('pi podle math =',pi)) # string format() method\n",
    "# print(f'{\"pi podle math =\":>25}{pi:20.15f}')          # formatted string literals\n",
    "piMachin=(4*atan(1/5)-atan(1/239))*4                    # reálné dělení, (1/5) je 0.2\n",
    "print(format%('pi podle Machina =',piMachin))"
   ]
  },
  {
   "cell_type": "code",
   "execution_count": 41,
   "id": "02aaf903",
   "metadata": {},
   "outputs": [
    {
     "name": "stdout",
     "output_type": "stream",
     "text": [
      "          pi podle math =   3.141592653589793\n",
      "      pi podle Leibnize =   3.141591653589774\n",
      "        pi podle Eulera =   3.141591698660509\n",
      "        pi podle Eulera =   3.141591698660467\n"
     ]
    }
   ],
   "source": [
    "# Python a imperativní pí: Leibnizova a Eulerova řada\n",
    "\n",
    "from math import *\n",
    "print(f'{\"pi podle math =\":>25}{pi:20.15f}')  # :>25 zarovnání doprava na 25 znaků\n",
    "\n",
    "# Leibniz\n",
    "nmax=1000000\n",
    "piLeibniz=0.\n",
    "z=1.\n",
    "for n in range(1,nmax+1):\n",
    "  # piLeibniz=piLeibniz+(-1)**(n-1)/(2*n-1)  # pomalé umocňování\n",
    "  piLeibniz=piLeibniz+z/(2*n-1)              # alternace znaménka pomocí proměnné z\n",
    "  z=-z\n",
    "piLeibniz=piLeibniz*4\n",
    "print(f'{\"pi podle Leibnize =\":>25}{piLeibniz:20.15f}')\n",
    "\n",
    "# Euler: kumulace od největších členů\n",
    "nmax=1000000\n",
    "piEuler=0.\n",
    "for n in range(1,nmax+1):\n",
    "  piEuler+=1/(n*n)     # dělení součinem nejrychlejší\n",
    "  # piEuler=piEuler+1/n/n     # dvě pomalá dělení\n",
    "  # piEuler=piEuler+1/n**2    # dělení pomalou mocninou\n",
    "piEuler=sqrt(piEuler*6)\n",
    "print(f'{\"pi podle Eulera =\":>25}{piEuler:20.15f}')\n",
    "\n",
    "# Euler: kumulace od nejmenších členů\n",
    "nmax=1000000\n",
    "piEuler=0.\n",
    "for n in range(nmax,0,-1):    # cyklus od nmax do 1\n",
    "  piEuler=piEuler+1/(n*n)\n",
    "piEuler=sqrt(piEuler*6)\n",
    "print(f'{\"pi podle Eulera =\":>25}{piEuler:20.15f}')"
   ]
  },
  {
   "cell_type": "code",
   "execution_count": 42,
   "id": "97d371f7",
   "metadata": {},
   "outputs": [
    {
     "data": {
      "text/plain": [
       "3.141592653589789"
      ]
     },
     "execution_count": 42,
     "metadata": {},
     "output_type": "execute_result"
    }
   ],
   "source": [
    "# Vietova odmocnina\n",
    "nmax = 24\n",
    "\n",
    "a = 0\n",
    "pi_Viete = 1\n",
    "for _ in range(nmax):\n",
    "    a = sqrt(0.5 + 0.5*a)\n",
    "    pi_Viete *= a\n",
    "pi = 2/pi_Viete\n",
    "pi"
   ]
  },
  {
   "cell_type": "code",
   "execution_count": 43,
   "id": "eb19365a",
   "metadata": {},
   "outputs": [
    {
     "name": "stdout",
     "output_type": "stream",
     "text": [
      "          pi podle math =   3.141592653589793\n",
      "         pi podle Vieta =   3.141592653589789\n"
     ]
    }
   ],
   "source": [
    "# Python a imperativní pí: Vietův součin\n",
    "\n",
    "from math import *\n",
    "print(f'{\"pi podle math =\":>25}{pi:20.15f}')\n",
    "\n",
    "# Viete\n",
    "nmax=24              # rychlá konvergence\n",
    "piViete=1.\n",
    "a=0.\n",
    "for n in range(1,nmax+1):\n",
    "  a=sqrt(0.5+0.5*a)  # update členu řady\n",
    "  piViete=piViete*a  # dílčí součin\n",
    "piViete=2/piViete\n",
    "print(f'{\"pi podle Vieta =\":>25}{piViete:20.15f}')"
   ]
  },
  {
   "cell_type": "code",
   "execution_count": 44,
   "id": "dcb0591f",
   "metadata": {},
   "outputs": [
    {
     "data": {
      "text/plain": [
       "3.1415925750808458"
      ]
     },
     "execution_count": 44,
     "metadata": {},
     "output_type": "execute_result"
    }
   ],
   "source": [
    "# Wallisův součin\n",
    "\n",
    "nmax = 10000000\n",
    "soucin = 1\n",
    "a = 0\n",
    "for n in range(1, nmax):\n",
    "    a = 4*n*n/((2*n-1)*(2*n+1))\n",
    "    soucin *= a\n",
    "\n",
    "pi_Wallis = 2*soucin\n",
    "pi_Wallis"
   ]
  },
  {
   "cell_type": "code",
   "execution_count": null,
   "id": "95011a65",
   "metadata": {},
   "outputs": [],
   "source": [
    "from math import pi,atan,sqrt\n",
    "\n",
    "# Machin\n",
    "def piMachin():\n",
    "  return (4*atan(1/5)-atan(1/239))*4\n",
    "\n",
    "# Leibniz\n",
    "def piLeibniz(nmax):\n",
    "  piLeibniz=0.\n",
    "  z=1.\n",
    "  for n in range(1,nmax+1):\n",
    "    piLeibniz+=z/(2*n-1)\n",
    "    z=-z\n",
    "  return piLeibniz*4\n",
    "\n",
    "# Euler: kumulace od nejmenších členů\n",
    "def piEuler(nmax):\n",
    "  piEuler=0.\n",
    "  for n in range(nmax,0,-1):\n",
    "    piEuler+=1/(n*n)\n",
    "  return sqrt(piEuler*6)\n",
    "\n",
    "# Viete\n",
    "def piViete(nmax):\n",
    "  piViete=1.\n",
    "  a=0.\n",
    "  for n in range(1,nmax+1):\n",
    "    a=sqrt(0.5+0.5*a)\n",
    "    piViete*=a\n",
    "  return 2/piViete\n",
    "\n",
    "def piRamanujan(nmax):\n",
    "  a=1.\n",
    "  piRamanujan=a*1103\n",
    "  for n in range(1,nmax+1):\n",
    "    a=a*(4*n-3)*(4*n-2)*(4*n-1)*4*n/(396.*n)**4\n",
    "    piRamanujan+=a*(1103+26390*n)\n",
    "  return 1/(piRamanujan*sqrt(8)/9801)"
   ]
  },
  {
   "cell_type": "code",
   "execution_count": 54,
   "id": "b0820949",
   "metadata": {},
   "outputs": [
    {
     "name": "stdout",
     "output_type": "stream",
     "text": [
      " 3.1415926535897931159980\n"
     ]
    }
   ],
   "source": [
    "format = '%25.22f'\n",
    "print(format % (piRamanujan))"
   ]
  }
 ],
 "metadata": {
  "kernelspec": {
   "display_name": "base",
   "language": "python",
   "name": "python3"
  },
  "language_info": {
   "codemirror_mode": {
    "name": "ipython",
    "version": 3
   },
   "file_extension": ".py",
   "mimetype": "text/x-python",
   "name": "python",
   "nbconvert_exporter": "python",
   "pygments_lexer": "ipython3",
   "version": "3.12.7"
  }
 },
 "nbformat": 4,
 "nbformat_minor": 5
}
