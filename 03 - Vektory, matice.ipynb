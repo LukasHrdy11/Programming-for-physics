{
 "cells": [
  {
   "cell_type": "markdown",
   "id": "7d113e2a",
   "metadata": {},
   "source": [
    "### Vektory a matice\n",
    "\n",
    "Většina programovacích jazyků má nějaké povědomí o vektorových a maticových datech, nejčastěji v nějaké formě datového typu `pole` (`array`). Ve Fortranu je to `dimension`, v C se definují pomocí `[]` pro libovolný typ. Python přímo v základním jazyce podporuje několik \"polních\" datových typů, `sekvencí` (`posloupností`, `sequences`), které práci s vektorovými daty umožňují. Hned na začátek je ale dobré si říct, že tyto vestavěné datové typy mají velmi omezenou použitelnost pro efektivní práci s většími objemy dat. Základní problém s poli v Pythonovské pojetí je, že můžou obsahovat cokoliv, tedy nejen čísla, ale jakýkoliv objekt. Přesto jsou velmi užitečné a základní koncepty pro práci se sekvencemi fungují i u jiných polí.\n",
    "\n",
    "U sekvencí můžeme přistupovat k jednotlivým částem pomocí hranatých závorek `[]` a indexu jednoho prvku nebo rozsahu prvků (tzv. `slice`). **První index je vždycky `0` a poslední `n-1`, kde n je délka sekvence** (tu nám řekne funkce `len`). Indexovat můžeme ale také od konce, pokud použijeme záporná čísla, přičemž poslední prvek sekvence má index `-1`.\n",
    "\n",
    "S jedním typem sekvence jsme se už setkali: řetězec je sekvence znaků v kódování `Unicode`, přičemž patří k neměnitelným (`immutable`) objektům, jejichž obsah nelze změnit. Můžeme ale použít *slicing* pro vyseparování podřetězců nebo řetězcové metody pro různé transformace vytvářející upravenou kopii."
   ]
  },
  {
   "cell_type": "code",
   "execution_count": null,
   "id": "d72f6749-5730-40ce-aa65-4f28e93dfde8",
   "metadata": {},
   "outputs": [],
   "source": [
    "name = 'Monty Python is the 🐐!'\n",
    "print(name[0], name[1], name[-1], name[len(name)-1])\n",
    "print(name[6:12].upper())\n",
    "print(name[:5], name[6:])\n",
    "print(name[-9:-1].capitalize())\n",
    "print(name[6:12:2])"
   ]
  },
  {
   "cell_type": "markdown",
   "id": "16fa0565",
   "metadata": {},
   "source": [
    "##### Seznamy, n-tice\n",
    "\n",
    "Sekvence obecných hodnot (pole objektů) jsou potom buďto měnitelný `seznam` (`list`) nebo neměnitelná `n-tice` (`tuple`). Oba se definují jako soupis hodnot oddělených čárkou, pro vytvoření `listu` ho uzavřeme do hranatých závorek a `tuple` do kulatých závorek. Všechna pravidla pro *slicing* platí i zde."
   ]
  },
  {
   "cell_type": "code",
   "execution_count": null,
   "id": "7c222698",
   "metadata": {},
   "outputs": [],
   "source": [
    "list_of_values = [1.5, 2, '-', sum, -1*12.5, print, [15, 6, '9'], 16]\n",
    "print(list_of_values)\n",
    "print(list_of_values[0])\n",
    "\n",
    "tuple_of_values = (1.5, 2, '... --- ...', sum, -1*12.5)\n",
    "print(tuple_of_values)\n",
    "print(tuple_of_values[-3][4:7])\n",
    "print(tuple_of_values[2].split(' '))"
   ]
  },
  {
   "cell_type": "markdown",
   "id": "d3ce9660",
   "metadata": {},
   "source": [
    "Obsah listu můžeme změnit přiřazením do konkrétního indexu nebo slicu. Další operace na listech jsou definované jako metody, např. `append`, `insert`, `pop`. Naproti tomu snaha o změnu hodnoty prvku tuplu skončí chybovou hláškou..."
   ]
  },
  {
   "cell_type": "code",
   "execution_count": null,
   "id": "81beffb1",
   "metadata": {},
   "outputs": [],
   "source": [
    "list_of_values[2] = -999.\n",
    "print(list_of_values)\n",
    "\n",
    "list_of_values[1:3] = 5, 6\n",
    "print(list_of_values)\n",
    "\n",
    "list_of_values.append(10)\n",
    "print(list_of_values)\n",
    "\n",
    "list_of_values.insert(1, None)\n",
    "print(list_of_values)\n",
    "\n",
    "list_of_values.pop()\n",
    "print(list_of_values)\n",
    "\n",
    "list_of_values[7][2] = 100\n",
    "print(list_of_values)\n",
    "\n",
    "# tuple_of_values[2] = -999."
   ]
  },
  {
   "cell_type": "markdown",
   "id": "90dae8ef-5205-4af3-b25d-e24504eff927",
   "metadata": {},
   "source": [
    "#### Číselná vektorová data\n",
    "\n",
    "Pro efektivní práci s poli čísel existují v Pythonu lepší řešení než `list`, přímo v základní distribuci je třeba knihovna `array`. I ta má ale svoje velká omezení, radši se poohlédneme někam mimo standardní distribuci. K těmto účelům mnohem lépe slouží externí knihovna NumPy, která se stala de-facto standardem pro vědecké výpočty v Pythonu. Tato knihovna zavádí datový typ `N-dimenzionální pole` (`N-dimensional array`), které obsahuje pouze prvky stejného typu a rozsahu (a většinou má fixní velikost). Tyto `ndarrays` jsou potom ekvivalentem polí v C nebo Fortranu a mají tu výhodu, že práce s nimi je nejen jednodušší pro programátora, ale také výpočty s nimi jsou řádově rychlejší..."
   ]
  },
  {
   "cell_type": "code",
   "execution_count": null,
   "id": "c8f3b356-dff2-4de3-a097-c7b25eedde7a",
   "metadata": {},
   "outputs": [],
   "source": [
    "import numpy as np\n",
    "\n",
    "data = np.array([13.5, 1.5, 6, 6, -12.5, 1.5, 16, 10, 3, -8], dtype=np.float32)\n",
    "print(\"Data: \", data)\n",
    "print('Sum: ', data.sum(), \" mean: \", data.mean())\n",
    "print('Sorted: ', sorted(data))\n",
    "print('Q1: ', np.percentile(data, 25), 'Q3: ', np.percentile(data, 75, method='nearest'))"
   ]
  },
  {
   "cell_type": "markdown",
   "id": "91a94f20-fe17-4646-992f-0ffe98006402",
   "metadata": {},
   "source": [
    "Vícedimenzionální pole v `NumPy` se adresují přes seznam indexů, sliců nebo jejich kombinaci."
   ]
  },
  {
   "cell_type": "code",
   "execution_count": null,
   "id": "dabb242b-f740-4202-86b5-29e4536306ce",
   "metadata": {},
   "outputs": [],
   "source": [
    "data_2d = np.random.randint(-5, 5, size=(5, 10))\n",
    "print(data_2d)\n",
    "print(data_2d[0, 0], data_2d[4, 9]) # jako u funkcí nedělám dvě závorky jako u listu\n",
    "print(data_2d[3:5])\n",
    "print(data_2d[:, 1:5:2])"
   ]
  },
  {
   "cell_type": "code",
   "execution_count": null,
   "id": "e14f374c-bd29-404a-9ba2-cb05a8d4e7a8",
   "metadata": {},
   "outputs": [],
   "source": [
    "data_5d = np.random.randint(-5, 5, size=(2, 3, 4, 3, 2))\n",
    "print(data_5d[0, ..., 0])"
   ]
  },
  {
   "cell_type": "markdown",
   "id": "2bbd6aab-6255-4d0a-a8fb-629600ca7c23",
   "metadata": {},
   "source": [
    "*Námět na cvičení: vyzkoušejte si, co všechno z toho, co jsme si ukazovali pro seznamy, platí pro `ndarrays`.*"
   ]
  },
  {
   "cell_type": "markdown",
   "id": "7d10c916-bb17-47f6-9b54-cf7c15c30956",
   "metadata": {},
   "source": [
    "Práci s `ndarrays` usnadňuje nejen celá řada předpřipravených funkcí, ale i vektorová aritmetika používající vestavěné aritmetické operátory."
   ]
  },
  {
   "cell_type": "code",
   "execution_count": null,
   "id": "4ff34b98-1689-4208-b2eb-0eaf93ee4b4b",
   "metadata": {},
   "outputs": [],
   "source": [
    "vec1 = np.array([1., 2., 3.])\n",
    "vec2 = np.array([-2, -3, 0.5])\n",
    "print(vec1 + vec2)\n",
    "print(vec1 * vec2)\n",
    "print(10*vec1 - vec2/2)\n",
    "print(np.dot(vec1, vec2))\n",
    "print(np.cross(vec1, vec2))"
   ]
  },
  {
   "cell_type": "markdown",
   "id": "61c5106e-c1df-4d68-acbf-44af1377fc19",
   "metadata": {},
   "source": [
    "Podobně bohaté možnosti nabízí pro práci s maticemi (`np.matrix`) a obecnými n-dimensionálními poli (`np.array`). Je ale potřeba si dávat pozor na interpretaci \"řádků a sloupců\". Pro lepší přehlednost si můžeme vypomoct rozložením jednoho logického řádku kódu na více \"fyzických\" řádků, které funguje v závorkách implicitně. Mimo závorky můžeme využít znak `\\`."
   ]
  },
  {
   "cell_type": "code",
   "execution_count": null,
   "id": "94837325-21d1-4f3f-9ff5-78afea22b696",
   "metadata": {},
   "outputs": [],
   "source": [
    "mat1 = np.matrix([[2., -1., 1.], [0., -1., 2.], [1., 2., 0.]])\n",
    "mat2 = np.matrix([[1., 1., 1.],\n",
    "                  [1., 0., 1.],\n",
    "                  [0., 1., 1.]])\n",
    "\n",
    "mat3 = mat1 + \\\n",
    "       mat2\n",
    "\n",
    "print(\"mat1\\n\", mat1, \"\\nmat2\\n\", mat2)\n",
    "print(\"mat3 = mat1 + mat2:\\n\", mat3)\n",
    "print(\"vec1 * mat1\\n\", vec1 * mat1)\n",
    "print(\"vec1 * mat1.T\\n\", vec1 * mat1.T)\n",
    "print(\"vec1 * np.array(mat1)\\n\", vec1 * np.array(mat1))\n",
    "print(\"mat1 * mat2\\n\", mat1 * mat2)\n",
    "print(\"np.array(mat1) * np.array(mat2)\\n\", np.array(mat1) * np.array(mat2))"
   ]
  },
  {
   "cell_type": "markdown",
   "id": "3a79c84b-9236-4dad-9737-823057d5dec4",
   "metadata": {},
   "source": [
    "#### Posloupnosti\n",
    "\n",
    "Speciálním typem sekvence je číselná posloupnost, která je natolik užitečná, že pro ni Python definuje speciální objekt `range`. Ten je omezený na celočíselné posloupnosti, zobecnění na reálná čísla potom opět přínáší knihovna `numpy` a její funkce `arange` a `linspace`. Jejich použití je podobné, ale implementace a chování v programu je trochu jiné. Zatímco `np.arange` generuje pole hodnot, `range` vytváří pouze tzv. iterátor/generátor, tedy objekt, který členy posloupnosti generuje za běhu programu..."
   ]
  },
  {
   "cell_type": "code",
   "execution_count": null,
   "id": "1790c131-08fc-49f9-9d02-7843267b648d",
   "metadata": {},
   "outputs": [],
   "source": [
    "# Iterate over numbers in <0, 10) with step 1\n",
    "int_seq = range(10)\n",
    "print(int_seq)\n",
    "print(list(int_seq))\n",
    "\n",
    "# Generate numbers from 3 to 10 (not included) with step 0.5\n",
    "float_seq = np.arange(3, 10, 0.5)\n",
    "print(float_seq)\n",
    "\n",
    "# Generate an array of 16 numbers evenly spaced between 3 and 10 (included)\n",
    "print(np.linspace(3, 10, 16))"
   ]
  },
  {
   "cell_type": "markdown",
   "id": "bd4f01ed",
   "metadata": {},
   "source": [
    "*Námět na cvičení: vyzkoušejte si, jaký je rozdíl mezi výstupem `range` a `np.arange`. Jaké objekty vrací?*"
   ]
  }
 ],
 "metadata": {
  "kernelspec": {
   "display_name": "base",
   "language": "python",
   "name": "python3"
  },
  "language_info": {
   "codemirror_mode": {
    "name": "ipython",
    "version": 3
   },
   "file_extension": ".py",
   "mimetype": "text/x-python",
   "name": "python",
   "nbconvert_exporter": "python",
   "pygments_lexer": "ipython3",
   "version": "3.12.7"
  }
 },
 "nbformat": 4,
 "nbformat_minor": 5
}
