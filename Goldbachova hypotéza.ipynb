{
 "cells": [
  {
   "cell_type": "markdown",
   "id": "96f904c0",
   "metadata": {},
   "source": [
    "Goldbachova hypotéza - každé sudé číslo je možné vyjádřit jako součet dvou prvočísel"
   ]
  },
  {
   "cell_type": "code",
   "execution_count": 73,
   "id": "0d663e90",
   "metadata": {},
   "outputs": [],
   "source": [
    "import numpy as np\n",
    "import time\n",
    "from numba import njit"
   ]
  },
  {
   "cell_type": "markdown",
   "id": "4178ffc1",
   "metadata": {},
   "source": [
    "Zjistění prvočísla"
   ]
  },
  {
   "cell_type": "code",
   "execution_count": 74,
   "id": "439feb69",
   "metadata": {},
   "outputs": [],
   "source": [
    "@njit\n",
    "def is_prime(n):\n",
    "    for i in range(2,n):\n",
    "        if n % i == 0:\n",
    "            return False\n",
    "    return True\n",
    "\n",
    "\n",
    "@njit\n",
    "def sieve_of_eratosthenes(nmax):\n",
    "    a = np.full(nmax + 1, True)        \n",
    "    a[0:2] = False                     # 0 a 1 nejsou prvočísla\n",
    "    n = 2                              \n",
    "    while n <= np.sqrt(nmax):          \n",
    "        nn = n * n                    \n",
    "        while nn <= nmax:              \n",
    "            a[nn] = False              \n",
    "            nn += n                    \n",
    "        n += 1\n",
    "        while n <= nmax and not a[n]:\n",
    "            n += 1\n",
    "    cnt = 0\n",
    "    for i in range(nmax + 1):          # zjištění počtu nevyškrtnutých prvků\n",
    "        if a[i]:\n",
    "            cnt += 1\n",
    "    result = np.zeros(cnt, dtype=np.int32)  # alokace výstupního pole prvočísel\n",
    "    nprime = 0\n",
    "    for i in range(nmax + 1):          # průchod sítem\n",
    "        if a[i]:\n",
    "            result[nprime] = i         # přenos prvočísel z indexů v sítu do výstupního pole\n",
    "            nprime += 1\n",
    "    return result       "
   ]
  },
  {
   "cell_type": "code",
   "execution_count": 75,
   "id": "0dbb5fbe",
   "metadata": {},
   "outputs": [],
   "source": [
    "nmax = 100_000_000"
   ]
  },
  {
   "cell_type": "code",
   "execution_count": 76,
   "id": "3ee82b80",
   "metadata": {},
   "outputs": [
    {
     "name": "stdout",
     "output_type": "stream",
     "text": [
      "7112.109184265137\n"
     ]
    }
   ],
   "source": [
    "inputs = np.random.randint(1, nmax, size=1000)\n",
    "\n",
    "start_time = time.time()\n",
    "\n",
    "for i in range(np.size(inputs)):\n",
    "    is_prime(inputs[i])\n",
    "\n",
    "end_time = time.time()\n",
    "\n",
    "print((end_time - start_time)*1000)"
   ]
  },
  {
   "cell_type": "code",
   "execution_count": 77,
   "id": "d0e18d87",
   "metadata": {},
   "outputs": [
    {
     "name": "stdout",
     "output_type": "stream",
     "text": [
      "950.3257274627686\n"
     ]
    }
   ],
   "source": [
    "start_time_2 = time.time()\n",
    "\n",
    "prvocisla = sieve_of_eratosthenes(nmax)\n",
    "\n",
    "end_time_2 = time.time()\n",
    "\n",
    "print((end_time_2 - start_time_2)*1000)"
   ]
  },
  {
   "cell_type": "code",
   "execution_count": 78,
   "id": "0d72471d",
   "metadata": {},
   "outputs": [
    {
     "name": "stdout",
     "output_type": "stream",
     "text": [
      "Ověření pro 100: 3 + 97 = 100\n"
     ]
    }
   ],
   "source": [
    "def over_goldbachovu_hypotezu(sude_cislo):\n",
    "    for p1 in range(2, sude_cislo // 2 + 1):\n",
    "        if is_prime(p1):\n",
    "            p2 = sude_cislo - p1\n",
    "            if is_prime(p2):\n",
    "                return p1, p2  \n",
    "    return None\n",
    "    \n",
    "cislo = 100\n",
    "vysledek = over_goldbachovu_hypotezu(cislo)\n",
    "if vysledek:\n",
    "    p1, p2 = vysledek\n",
    "    print(f\"Ověření pro {cislo}: {p1} + {p2} = {cislo}\")"
   ]
  }
 ],
 "metadata": {
  "kernelspec": {
   "display_name": "base",
   "language": "python",
   "name": "python3"
  },
  "language_info": {
   "codemirror_mode": {
    "name": "ipython",
    "version": 3
   },
   "file_extension": ".py",
   "mimetype": "text/x-python",
   "name": "python",
   "nbconvert_exporter": "python",
   "pygments_lexer": "ipython3",
   "version": "3.12.7"
  }
 },
 "nbformat": 4,
 "nbformat_minor": 5
}
